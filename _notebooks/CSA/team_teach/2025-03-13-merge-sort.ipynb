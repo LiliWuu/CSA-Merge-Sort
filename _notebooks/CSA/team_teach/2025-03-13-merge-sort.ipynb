{
 "cells": [
  {
   "cell_type": "markdown",
   "metadata": {},
   "source": [
    "---\n",
    "layout: post\n",
    "title: Merge Sort Team Teach\n",
    "type: issues \n",
    "courses: { csa: {week: 8} }\n",
    "comments: true\n",
    "permalink: /csa/team_teach/merge_sort\n",
    "---"
   ]
  },
  {
   "cell_type": "markdown",
   "metadata": {},
   "source": [
    "# What is Merge Sorting?\n",
    "![Image](https://github.com/user-attachments/assets/274b1e6c-1ff9-45c3-8064-1d11606e0e34)\n",
    "- Highly efficient sorting algorithm that uses \"**divide and conquer**\" to sort a list\n",
    "- Repeatedly divides sublists until the list has one element, then merges sublists to a sorted list\n",
    "\n",
    "### Pros\n",
    "1. Efficiency\n",
    "- Time complexity of O(nlogn)\n",
    "    - Time taken to sort data grows slowly as size of data increases, so good for large datasets\n",
    "2. Stability\n",
    "- **Stable sorting algorithm** - preserves the order of elements with equal values during sorting\n",
    "\n",
    "![Image](https://github.com/user-attachments/assets/ad53eeb8-4618-49d1-ba91-e25b67dcc9c8)"
   ]
  },
  {
   "cell_type": "markdown",
   "metadata": {},
   "source": [
    "# Merge Sort vs. Other Sorting Algorithms"
   ]
  },
  {
   "cell_type": "markdown",
   "metadata": {},
   "source": [
    "# Merge Sort Process"
   ]
  },
  {
   "cell_type": "markdown",
   "metadata": {},
   "source": [
    "### Popcorn Hack\n",
    "\n",
    " Write a Java program that merges two already sorted arrays into one sorted array without using extra sorting functions."
   ]
  },
  {
   "cell_type": "markdown",
   "metadata": {},
   "source": [
    "# Implementations\n",
    "### Recursive Approach\n",
    "\n",
    "### Iterative Approach"
   ]
  }
 ],
 "metadata": {
  "language_info": {
   "name": "python"
  }
 },
 "nbformat": 4,
 "nbformat_minor": 2
}

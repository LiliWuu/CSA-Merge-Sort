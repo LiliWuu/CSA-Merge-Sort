{
 "cells": [
  {
   "cell_type": "markdown",
   "metadata": {},
   "source": [
    "---\n",
    "layout: post\n",
    "title: Merge Sort Team Teach\n",
    "type: issues \n",
    "courses: { csa: {week: 8} }\n",
    "comments: true\n",
    "permalink: /csa/team_teach/demo\n",
    "---"
   ]
  },
  {
   "cell_type": "markdown",
   "metadata": {},
   "source": [
    "1. If left < right, the array is divided into two halves:\n",
    "    int mid = (left + right) / 2;\n",
    "2. It recursively calls itself for the left half:\n",
    "    mergeSort(arr, left, mid);\n",
    "3. Then, it recursively calls itself for the right half:\n",
    "    mergeSort(arr, mid + 1, right);\n",
    "4. After both halves are sorted, the merge() function is called to combine them.\n",
    "\n"
   ]
  },
  {
   "cell_type": "code",
   "execution_count": 1,
   "metadata": {
    "vscode": {
     "languageId": "java"
    }
   },
   "outputs": [],
   "source": [
    "import java.util.Arrays;\n",
    "\n",
    "public class MergeSort {\n",
    "\n",
    "    // Merge Sort function\n",
    "    public static void mergeSort(int[] arr, int left, int right) {\n",
    "        if (left < right) {\n",
    "            int mid = (left + right) / 2;\n",
    "\n",
    "            // Recursively divide the array\n",
    "            mergeSort(arr, left, mid);\n",
    "            mergeSort(arr, mid + 1, right);\n",
    "\n",
    "            // Merge the sorted halves\n",
    "            merge(arr, left, mid, right);\n",
    "        }\n",
    "    }\n",
    "\n",
    "    // Merge two sorted subarrays\n",
    "    private static void merge(int[] arr, int left, int mid, int right) {\n",
    "        int leftSize = mid - left + 1;\n",
    "        int rightSize = right - mid;\n",
    "\n",
    "        // Create temporary arrays\n",
    "        int[] leftArr = new int[leftSize];\n",
    "        int[] rightArr = new int[rightSize];\n",
    "\n",
    "        // Copy data to temp arrays\n",
    "        System.arraycopy(arr, left, leftArr, 0, leftSize);\n",
    "        System.arraycopy(arr, mid + 1, rightArr, 0, rightSize);\n",
    "\n",
    "        // Merge the temp arrays\n",
    "        int i = 0, j = 0, k = left;\n",
    "        while (i < leftSize && j < rightSize) {\n",
    "            if (leftArr[i] <= rightArr[j]) {\n",
    "                arr[k++] = leftArr[i++];\n",
    "            } else {\n",
    "                arr[k++] = rightArr[j++];\n",
    "            }\n",
    "        }\n",
    "\n",
    "        // Copy remaining elements\n",
    "        while (i < leftSize) {\n",
    "            arr[k++] = leftArr[i++];\n",
    "        }\n",
    "        while (j < rightSize) {\n",
    "            arr[k++] = rightArr[j++];\n",
    "        }\n",
    "    }\n",
    "\n",
    "    // Main function to test Merge Sort\n",
    "    public static void main(String[] args) {\n",
    "        int[] array = {5, 3, 8, 6, 2, 7, 4, 1};\n",
    "        System.out.println(\"Unsorted Array: \" + Arrays.toString(array));\n",
    "\n",
    "        mergeSort(array, 0, array.length - 1);\n",
    "\n",
    "        System.out.println(\"Sorted Array: \" + Arrays.toString(array));\n",
    "    }\n",
    "}\n"
   ]
  }
 ],
 "metadata": {
  "kernelspec": {
   "display_name": "Java",
   "language": "java",
   "name": "java"
  },
  "language_info": {
   "codemirror_mode": "java",
   "file_extension": ".jshell",
   "mimetype": "text/x-java-source",
   "name": "Java",
   "pygments_lexer": "java",
   "version": "17.0.12+0"
  },
  "orig_nbformat": 4
 },
 "nbformat": 4,
 "nbformat_minor": 2
}
